{
 "cells": [
  {
   "cell_type": "code",
   "execution_count": 1,
   "id": "0872719e",
   "metadata": {
    "execution": {
     "iopub.execute_input": "2023-02-28T21:08:29.534542Z",
     "iopub.status.busy": "2023-02-28T21:08:29.534542Z",
     "iopub.status.idle": "2023-02-28T21:08:29.545945Z",
     "shell.execute_reply": "2023-02-28T21:08:29.545945Z"
    }
   },
   "outputs": [
    {
     "name": "stdout",
     "output_type": "stream",
     "text": [
      "The straight-line depreciation for the machine is $18000.0 per year.\n"
     ]
    }
   ],
   "source": [
    "cost = 100000\n",
    "salvage = 10000\n",
    "life = 5\n",
    "depreciation = (cost - salvage) / life\n",
    "print(\"The straight-line depreciation for the machine is ${} per year.\".format(depreciation))"
   ]
  }
 ],
 "metadata": {
  "kernelspec": {
   "display_name": "Python 3 (ipykernel)",
   "language": "python",
   "name": "python3"
  },
  "language_info": {
   "codemirror_mode": {
    "name": "ipython",
    "version": 3
   },
   "file_extension": ".py",
   "mimetype": "text/x-python",
   "name": "python",
   "nbconvert_exporter": "python",
   "pygments_lexer": "ipython3",
   "version": "3.10.9"
  }
 },
 "nbformat": 4,
 "nbformat_minor": 5
}
